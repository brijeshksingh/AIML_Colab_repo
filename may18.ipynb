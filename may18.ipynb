{
  "cells": [
    {
      "cell_type": "markdown",
      "metadata": {
        "id": "view-in-github",
        "colab_type": "text"
      },
      "source": [
        "<a href=\"https://colab.research.google.com/github/brijeshksingh/AIML_Colab_repo/blob/main/may18.ipynb\" target=\"_parent\"><img src=\"https://colab.research.google.com/assets/colab-badge.svg\" alt=\"Open In Colab\"/></a>"
      ]
    },
    {
      "cell_type": "code",
      "execution_count": null,
      "id": "759e7e59",
      "metadata": {
        "vscode": {
          "languageId": "plaintext"
        },
        "id": "759e7e59"
      },
      "outputs": [],
      "source": [
        "!pip install langgraph langsmith"
      ]
    },
    {
      "cell_type": "code",
      "source": [
        "!pip install langchain langchain_groq langchain_community"
      ],
      "metadata": {
        "colab": {
          "base_uri": "https://localhost:8080/"
        },
        "id": "Q2jkg_wDbw-1",
        "outputId": "a6d218fc-e090-458d-b7b4-7ce8fa1c63d6"
      },
      "id": "Q2jkg_wDbw-1",
      "execution_count": 2,
      "outputs": [
        {
          "output_type": "stream",
          "name": "stdout",
          "text": [
            "Collecting langchain\n",
            "  Downloading langchain-0.3.25-py3-none-any.whl.metadata (7.8 kB)\n",
            "Collecting langchain_groq\n",
            "  Downloading langchain_groq-0.3.2-py3-none-any.whl.metadata (2.6 kB)\n",
            "Collecting langchain_community\n",
            "  Downloading langchain_community-0.3.24-py3-none-any.whl.metadata (2.5 kB)\n",
            "Requirement already satisfied: langchain-core<1.0.0,>=0.3.58 in /usr/local/lib/python3.11/dist-packages (from langchain) (0.3.60)\n",
            "Collecting langchain-text-splitters<1.0.0,>=0.3.8 (from langchain)\n",
            "  Downloading langchain_text_splitters-0.3.8-py3-none-any.whl.metadata (1.9 kB)\n",
            "Requirement already satisfied: langsmith<0.4,>=0.1.17 in /usr/local/lib/python3.11/dist-packages (from langchain) (0.3.42)\n",
            "Requirement already satisfied: pydantic<3.0.0,>=2.7.4 in /usr/local/lib/python3.11/dist-packages (from langchain) (2.11.4)\n",
            "Collecting SQLAlchemy<3,>=1.4 (from langchain)\n",
            "  Downloading sqlalchemy-2.0.41-cp311-cp311-manylinux_2_17_x86_64.manylinux2014_x86_64.whl.metadata (9.6 kB)\n",
            "Requirement already satisfied: requests<3,>=2 in /usr/local/lib/python3.11/dist-packages (from langchain) (2.32.3)\n",
            "Requirement already satisfied: PyYAML>=5.3 in /usr/local/lib/python3.11/dist-packages (from langchain) (6.0.2)\n",
            "Collecting groq<1,>=0.4.1 (from langchain_groq)\n",
            "  Downloading groq-0.25.0-py3-none-any.whl.metadata (15 kB)\n",
            "Requirement already satisfied: aiohttp<4.0.0,>=3.8.3 in /usr/local/lib/python3.11/dist-packages (from langchain_community) (3.11.15)\n",
            "Requirement already satisfied: tenacity!=8.4.0,<10,>=8.1.0 in /usr/local/lib/python3.11/dist-packages (from langchain_community) (9.1.2)\n",
            "Collecting dataclasses-json<0.7,>=0.5.7 (from langchain_community)\n",
            "  Downloading dataclasses_json-0.6.7-py3-none-any.whl.metadata (25 kB)\n",
            "Collecting pydantic-settings<3.0.0,>=2.4.0 (from langchain_community)\n",
            "  Downloading pydantic_settings-2.9.1-py3-none-any.whl.metadata (3.8 kB)\n",
            "Collecting httpx-sse<1.0.0,>=0.4.0 (from langchain_community)\n",
            "  Downloading httpx_sse-0.4.0-py3-none-any.whl.metadata (9.0 kB)\n",
            "Requirement already satisfied: numpy>=1.26.2 in /usr/local/lib/python3.11/dist-packages (from langchain_community) (2.0.2)\n",
            "Requirement already satisfied: aiohappyeyeballs>=2.3.0 in /usr/local/lib/python3.11/dist-packages (from aiohttp<4.0.0,>=3.8.3->langchain_community) (2.6.1)\n",
            "Requirement already satisfied: aiosignal>=1.1.2 in /usr/local/lib/python3.11/dist-packages (from aiohttp<4.0.0,>=3.8.3->langchain_community) (1.3.2)\n",
            "Requirement already satisfied: attrs>=17.3.0 in /usr/local/lib/python3.11/dist-packages (from aiohttp<4.0.0,>=3.8.3->langchain_community) (25.3.0)\n",
            "Requirement already satisfied: frozenlist>=1.1.1 in /usr/local/lib/python3.11/dist-packages (from aiohttp<4.0.0,>=3.8.3->langchain_community) (1.6.0)\n",
            "Requirement already satisfied: multidict<7.0,>=4.5 in /usr/local/lib/python3.11/dist-packages (from aiohttp<4.0.0,>=3.8.3->langchain_community) (6.4.3)\n",
            "Requirement already satisfied: propcache>=0.2.0 in /usr/local/lib/python3.11/dist-packages (from aiohttp<4.0.0,>=3.8.3->langchain_community) (0.3.1)\n",
            "Requirement already satisfied: yarl<2.0,>=1.17.0 in /usr/local/lib/python3.11/dist-packages (from aiohttp<4.0.0,>=3.8.3->langchain_community) (1.20.0)\n",
            "Collecting marshmallow<4.0.0,>=3.18.0 (from dataclasses-json<0.7,>=0.5.7->langchain_community)\n",
            "  Downloading marshmallow-3.26.1-py3-none-any.whl.metadata (7.3 kB)\n",
            "Collecting typing-inspect<1,>=0.4.0 (from dataclasses-json<0.7,>=0.5.7->langchain_community)\n",
            "  Downloading typing_inspect-0.9.0-py3-none-any.whl.metadata (1.5 kB)\n",
            "Requirement already satisfied: anyio<5,>=3.5.0 in /usr/local/lib/python3.11/dist-packages (from groq<1,>=0.4.1->langchain_groq) (4.9.0)\n",
            "Requirement already satisfied: distro<2,>=1.7.0 in /usr/lib/python3/dist-packages (from groq<1,>=0.4.1->langchain_groq) (1.7.0)\n",
            "Requirement already satisfied: httpx<1,>=0.23.0 in /usr/local/lib/python3.11/dist-packages (from groq<1,>=0.4.1->langchain_groq) (0.28.1)\n",
            "Requirement already satisfied: sniffio in /usr/local/lib/python3.11/dist-packages (from groq<1,>=0.4.1->langchain_groq) (1.3.1)\n",
            "Requirement already satisfied: typing-extensions<5,>=4.10 in /usr/local/lib/python3.11/dist-packages (from groq<1,>=0.4.1->langchain_groq) (4.13.2)\n",
            "Requirement already satisfied: jsonpatch<2.0,>=1.33 in /usr/local/lib/python3.11/dist-packages (from langchain-core<1.0.0,>=0.3.58->langchain) (1.33)\n",
            "Requirement already satisfied: packaging<25,>=23.2 in /usr/local/lib/python3.11/dist-packages (from langchain-core<1.0.0,>=0.3.58->langchain) (24.2)\n",
            "Requirement already satisfied: orjson<4.0.0,>=3.9.14 in /usr/local/lib/python3.11/dist-packages (from langsmith<0.4,>=0.1.17->langchain) (3.10.18)\n",
            "Requirement already satisfied: requests-toolbelt<2.0.0,>=1.0.0 in /usr/local/lib/python3.11/dist-packages (from langsmith<0.4,>=0.1.17->langchain) (1.0.0)\n",
            "Requirement already satisfied: zstandard<0.24.0,>=0.23.0 in /usr/local/lib/python3.11/dist-packages (from langsmith<0.4,>=0.1.17->langchain) (0.23.0)\n",
            "Requirement already satisfied: annotated-types>=0.6.0 in /usr/local/lib/python3.11/dist-packages (from pydantic<3.0.0,>=2.7.4->langchain) (0.7.0)\n",
            "Requirement already satisfied: pydantic-core==2.33.2 in /usr/local/lib/python3.11/dist-packages (from pydantic<3.0.0,>=2.7.4->langchain) (2.33.2)\n",
            "Requirement already satisfied: typing-inspection>=0.4.0 in /usr/local/lib/python3.11/dist-packages (from pydantic<3.0.0,>=2.7.4->langchain) (0.4.0)\n",
            "Collecting python-dotenv>=0.21.0 (from pydantic-settings<3.0.0,>=2.4.0->langchain_community)\n",
            "  Downloading python_dotenv-1.1.0-py3-none-any.whl.metadata (24 kB)\n",
            "Requirement already satisfied: charset-normalizer<4,>=2 in /usr/local/lib/python3.11/dist-packages (from requests<3,>=2->langchain) (3.4.2)\n",
            "Requirement already satisfied: idna<4,>=2.5 in /usr/local/lib/python3.11/dist-packages (from requests<3,>=2->langchain) (3.10)\n",
            "Requirement already satisfied: urllib3<3,>=1.21.1 in /usr/local/lib/python3.11/dist-packages (from requests<3,>=2->langchain) (2.4.0)\n",
            "Requirement already satisfied: certifi>=2017.4.17 in /usr/local/lib/python3.11/dist-packages (from requests<3,>=2->langchain) (2025.4.26)\n",
            "Collecting greenlet>=1 (from SQLAlchemy<3,>=1.4->langchain)\n",
            "  Downloading greenlet-3.2.2-cp311-cp311-manylinux_2_24_x86_64.manylinux_2_28_x86_64.whl.metadata (4.1 kB)\n",
            "Requirement already satisfied: httpcore==1.* in /usr/local/lib/python3.11/dist-packages (from httpx<1,>=0.23.0->groq<1,>=0.4.1->langchain_groq) (1.0.9)\n",
            "Requirement already satisfied: h11>=0.16 in /usr/local/lib/python3.11/dist-packages (from httpcore==1.*->httpx<1,>=0.23.0->groq<1,>=0.4.1->langchain_groq) (0.16.0)\n",
            "Requirement already satisfied: jsonpointer>=1.9 in /usr/local/lib/python3.11/dist-packages (from jsonpatch<2.0,>=1.33->langchain-core<1.0.0,>=0.3.58->langchain) (3.0.0)\n",
            "Collecting mypy-extensions>=0.3.0 (from typing-inspect<1,>=0.4.0->dataclasses-json<0.7,>=0.5.7->langchain_community)\n",
            "  Downloading mypy_extensions-1.1.0-py3-none-any.whl.metadata (1.1 kB)\n",
            "Downloading langchain-0.3.25-py3-none-any.whl (1.0 MB)\n",
            "\u001b[2K   \u001b[90m━━━━━━━━━━━━━━━━━━━━━━━━━━━━━━━━━━━━━━━━\u001b[0m \u001b[32m1.0/1.0 MB\u001b[0m \u001b[31m15.6 MB/s\u001b[0m eta \u001b[36m0:00:00\u001b[0m\n",
            "\u001b[?25hDownloading langchain_groq-0.3.2-py3-none-any.whl (15 kB)\n",
            "Downloading langchain_community-0.3.24-py3-none-any.whl (2.5 MB)\n",
            "\u001b[2K   \u001b[90m━━━━━━━━━━━━━━━━━━━━━━━━━━━━━━━━━━━━━━━━\u001b[0m \u001b[32m2.5/2.5 MB\u001b[0m \u001b[31m71.5 MB/s\u001b[0m eta \u001b[36m0:00:00\u001b[0m\n",
            "\u001b[?25hDownloading dataclasses_json-0.6.7-py3-none-any.whl (28 kB)\n",
            "Downloading groq-0.25.0-py3-none-any.whl (129 kB)\n",
            "\u001b[2K   \u001b[90m━━━━━━━━━━━━━━━━━━━━━━━━━━━━━━━━━━━━━━━━\u001b[0m \u001b[32m129.4/129.4 kB\u001b[0m \u001b[31m12.9 MB/s\u001b[0m eta \u001b[36m0:00:00\u001b[0m\n",
            "\u001b[?25hDownloading httpx_sse-0.4.0-py3-none-any.whl (7.8 kB)\n",
            "Downloading langchain_text_splitters-0.3.8-py3-none-any.whl (32 kB)\n",
            "Downloading pydantic_settings-2.9.1-py3-none-any.whl (44 kB)\n",
            "\u001b[2K   \u001b[90m━━━━━━━━━━━━━━━━━━━━━━━━━━━━━━━━━━━━━━━━\u001b[0m \u001b[32m44.4/44.4 kB\u001b[0m \u001b[31m4.2 MB/s\u001b[0m eta \u001b[36m0:00:00\u001b[0m\n",
            "\u001b[?25hDownloading sqlalchemy-2.0.41-cp311-cp311-manylinux_2_17_x86_64.manylinux2014_x86_64.whl (3.3 MB)\n",
            "\u001b[2K   \u001b[90m━━━━━━━━━━━━━━━━━━━━━━━━━━━━━━━━━━━━━━━━\u001b[0m \u001b[32m3.3/3.3 MB\u001b[0m \u001b[31m92.1 MB/s\u001b[0m eta \u001b[36m0:00:00\u001b[0m\n",
            "\u001b[?25hDownloading greenlet-3.2.2-cp311-cp311-manylinux_2_24_x86_64.manylinux_2_28_x86_64.whl (583 kB)\n",
            "\u001b[2K   \u001b[90m━━━━━━━━━━━━━━━━━━━━━━━━━━━━━━━━━━━━━━━━\u001b[0m \u001b[32m583.9/583.9 kB\u001b[0m \u001b[31m39.5 MB/s\u001b[0m eta \u001b[36m0:00:00\u001b[0m\n",
            "\u001b[?25hDownloading marshmallow-3.26.1-py3-none-any.whl (50 kB)\n",
            "\u001b[2K   \u001b[90m━━━━━━━━━━━━━━━━━━━━━━━━━━━━━━━━━━━━━━━━\u001b[0m \u001b[32m50.9/50.9 kB\u001b[0m \u001b[31m4.8 MB/s\u001b[0m eta \u001b[36m0:00:00\u001b[0m\n",
            "\u001b[?25hDownloading python_dotenv-1.1.0-py3-none-any.whl (20 kB)\n",
            "Downloading typing_inspect-0.9.0-py3-none-any.whl (8.8 kB)\n",
            "Downloading mypy_extensions-1.1.0-py3-none-any.whl (5.0 kB)\n",
            "Installing collected packages: python-dotenv, mypy-extensions, marshmallow, httpx-sse, greenlet, typing-inspect, SQLAlchemy, pydantic-settings, groq, dataclasses-json, langchain-text-splitters, langchain_groq, langchain, langchain_community\n",
            "Successfully installed SQLAlchemy-2.0.41 dataclasses-json-0.6.7 greenlet-3.2.2 groq-0.25.0 httpx-sse-0.4.0 langchain-0.3.25 langchain-text-splitters-0.3.8 langchain_community-0.3.24 langchain_groq-0.3.2 marshmallow-3.26.1 mypy-extensions-1.1.0 pydantic-settings-2.9.1 python-dotenv-1.1.0 typing-inspect-0.9.0\n"
          ]
        }
      ]
    },
    {
      "cell_type": "code",
      "source": [
        "from google.colab import userdata"
      ],
      "metadata": {
        "id": "MtJpvIU4cH_T"
      },
      "id": "MtJpvIU4cH_T",
      "execution_count": 3,
      "outputs": []
    },
    {
      "cell_type": "code",
      "source": [
        "groq_api_key = userdata.get('groq_api_key')\n",
        "langsmith_api_key = userdata.get('langsmith_api_key')\n",
        "print(groq_api_key)\n",
        "print(langsmith_api_key)"
      ],
      "metadata": {
        "colab": {
          "base_uri": "https://localhost:8080/"
        },
        "id": "0QeLs5XJcTRe",
        "outputId": "7d55a988-0919-4ee6-cd67-432329753421"
      },
      "id": "0QeLs5XJcTRe",
      "execution_count": 5,
      "outputs": [
        {
          "output_type": "stream",
          "name": "stdout",
          "text": [
            "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\n",
            "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\n"
          ]
        }
      ]
    },
    {
      "cell_type": "code",
      "source": [
        "import os\n",
        "os.environ['GROQ_API_KEY'] = groq_api_key\n",
        "os.environ['LANGCHAIN_TRACING_V2'] = 'true'\n",
        "#os.environ['LANGCHAIN_ENDPOINT'] = 'https://api.smith.langchain.com'\n",
        "os.environ['lANGCHAIN_API_KEY'] = langsmith_api_key\n",
        "os.environ['LANGCHAIN_PROJECT'] = 'langgraph-demo'\n"
      ],
      "metadata": {
        "id": "kcX7Q3k-dNgg"
      },
      "id": "kcX7Q3k-dNgg",
      "execution_count": 6,
      "outputs": []
    },
    {
      "cell_type": "code",
      "source": [
        "from langchain_groq import ChatGroq"
      ],
      "metadata": {
        "id": "Sc-mzMzhgcRO"
      },
      "id": "Sc-mzMzhgcRO",
      "execution_count": 7,
      "outputs": []
    },
    {
      "cell_type": "code",
      "source": [
        "llm = ChatGroq(groq_api_key=groq_api_key, model=\"Gemma2-9b-It\")\n",
        "llm"
      ],
      "metadata": {
        "colab": {
          "base_uri": "https://localhost:8080/"
        },
        "id": "d7U2D1p1ghXC",
        "outputId": "1350e614-cd81-4ea7-bd04-cd5844bbc8fc"
      },
      "id": "d7U2D1p1ghXC",
      "execution_count": 9,
      "outputs": [
        {
          "output_type": "execute_result",
          "data": {
            "text/plain": [
              "ChatGroq(client=<groq.resources.chat.completions.Completions object at 0x7f323f11e4d0>, async_client=<groq.resources.chat.completions.AsyncCompletions object at 0x7f323f1108d0>, model_name='Gemma2-9b-It', model_kwargs={}, groq_api_key=SecretStr('**********'))"
            ]
          },
          "metadata": {},
          "execution_count": 9
        }
      ]
    },
    {
      "cell_type": "code",
      "source": [
        "from typing import Annotated\n",
        "from typing_extensions import TypedDict\n",
        "from langgraph.graph import StateGraph, START,END\n",
        "from langgraph.graph.message import add_messages"
      ],
      "metadata": {
        "id": "rr-gGvCCgsvy"
      },
      "id": "rr-gGvCCgsvy",
      "execution_count": 10,
      "outputs": []
    },
    {
      "cell_type": "code",
      "source": [
        "class State(TypedDict):\n",
        "    messages:Annotated[list, add_messages]\n",
        "\n",
        "graph_builder = StateGraph(State)\n"
      ],
      "metadata": {
        "id": "0hfXGprphbEu"
      },
      "id": "0hfXGprphbEu",
      "execution_count": 11,
      "outputs": []
    },
    {
      "cell_type": "code",
      "source": [
        "graph_builder"
      ],
      "metadata": {
        "colab": {
          "base_uri": "https://localhost:8080/"
        },
        "id": "VhlifJVNh8uw",
        "outputId": "5e1b5d00-9f91-471a-bd21-cd6c89b04f27"
      },
      "id": "VhlifJVNh8uw",
      "execution_count": 12,
      "outputs": [
        {
          "output_type": "execute_result",
          "data": {
            "text/plain": [
              "<langgraph.graph.state.StateGraph at 0x7f323ec5b510>"
            ]
          },
          "metadata": {},
          "execution_count": 12
        }
      ]
    },
    {
      "cell_type": "code",
      "source": [
        "def chatbot(state:State):\n",
        "  return {\"messages\": llm.invoke(state[\"messages\"])}"
      ],
      "metadata": {
        "id": "O3HZm-Tnh-gN"
      },
      "id": "O3HZm-Tnh-gN",
      "execution_count": 13,
      "outputs": []
    },
    {
      "cell_type": "code",
      "source": [
        "graph_builder.add_node(\"chatbot\",chatbot)\n",
        "graph_builder"
      ],
      "metadata": {
        "colab": {
          "base_uri": "https://localhost:8080/"
        },
        "id": "1aak_C5-iYqX",
        "outputId": "a28eee34-e5df-4f39-ad10-1634747f6d70"
      },
      "id": "1aak_C5-iYqX",
      "execution_count": 14,
      "outputs": [
        {
          "output_type": "execute_result",
          "data": {
            "text/plain": [
              "<langgraph.graph.state.StateGraph at 0x7f323ec5b510>"
            ]
          },
          "metadata": {},
          "execution_count": 14
        }
      ]
    },
    {
      "cell_type": "code",
      "source": [
        "graph_builder.add_edge(START,\"chatbot\")\n",
        "graph_builder.add_edge(\"chatbot\",END)\n",
        "graph_builder"
      ],
      "metadata": {
        "colab": {
          "base_uri": "https://localhost:8080/"
        },
        "id": "Zt0IYAMMilcx",
        "outputId": "eed71e3a-1b2b-4038-dbf6-2b4abbf0ba3e"
      },
      "id": "Zt0IYAMMilcx",
      "execution_count": 15,
      "outputs": [
        {
          "output_type": "execute_result",
          "data": {
            "text/plain": [
              "<langgraph.graph.state.StateGraph at 0x7f323ec5b510>"
            ]
          },
          "metadata": {},
          "execution_count": 15
        }
      ]
    },
    {
      "cell_type": "code",
      "source": [
        "graph = graph_builder.compile()"
      ],
      "metadata": {
        "id": "s82XWVkJi7uJ"
      },
      "id": "s82XWVkJi7uJ",
      "execution_count": 17,
      "outputs": []
    },
    {
      "cell_type": "code",
      "source": [
        "from IPython.display import Image, display\n",
        "try:\n",
        "  display(Image(graph.get_graph().draw_mermaid_png()))\n",
        "except:\n",
        "  pass"
      ],
      "metadata": {
        "colab": {
          "base_uri": "https://localhost:8080/",
          "height": 251
        },
        "id": "4eAMu8C2i_1N",
        "outputId": "5e8643fb-1671-4bdc-e53c-f42d23738449"
      },
      "id": "4eAMu8C2i_1N",
      "execution_count": 19,
      "outputs": [
        {
          "output_type": "display_data",
          "data": {
            "image/png": "[encoded data removed]",
            "text/plain": [
              "<IPython.core.display.Image object>"
            ]
          },
          "metadata": {}
        }
      ]
    },
    {
      "cell_type": "code",
      "source": [
        "while True:\n",
        "  user_input = input(\"User: \")\n",
        "  if user_input.lower() in [\"quit\", \"q\"]:\n",
        "    print(\"Good Bye\")\n",
        "    break\n",
        "  for event in graph.stream({'messages': ('user', user_input)}):\n",
        "    print(event.values())\n",
        "    for value in event.values():\n",
        "      print(value['messages'])\n",
        "      print('Assistant: ', value['messages'].content)"
      ],
      "metadata": {
        "colab": {
          "base_uri": "https://localhost:8080/"
        },
        "id": "kGWfpJsRjWnN",
        "outputId": "16e9a294-8285-4aa7-dcbe-0bec933339d6"
      },
      "id": "kGWfpJsRjWnN",
      "execution_count": 20,
      "outputs": [
        {
          "name": "stdout",
          "output_type": "stream",
          "text": [
            "User: hello\n"
          ]
        },
        {
          "output_type": "stream",
          "name": "stderr",
          "text": [
            "/usr/local/lib/python3.11/dist-packages/langsmith/client.py:272: LangSmithMissingAPIKeyWarning: API key must be provided when using hosted LangSmith API\n",
            "  warnings.warn(\n"
          ]
        },
        {
          "output_type": "stream",
          "name": "stdout",
          "text": [
            "dict_values([{'messages': AIMessage(content='Hello! How can I help you today? 😊\\n', additional_kwargs={}, response_metadata={'token_usage': {'completion_tokens': 13, 'prompt_tokens': 11, 'total_tokens': 24, 'completion_time': 0.023636364, 'prompt_time': 0.002104455, 'queue_time': 0.066855336, 'total_time': 0.025740819}, 'model_name': 'Gemma2-9b-It', 'system_fingerprint': 'fp_10c08bf97d', 'finish_reason': 'stop', 'logprobs': None}, id='run--0a8a9d65-e51f-470a-a116-3ce40489bfd0-0', usage_metadata={'input_tokens': 11, 'output_tokens': 13, 'total_tokens': 24})}])\n",
            "content='Hello! How can I help you today? 😊\\n' additional_kwargs={} response_metadata={'token_usage': {'completion_tokens': 13, 'prompt_tokens': 11, 'total_tokens': 24, 'completion_time': 0.023636364, 'prompt_time': 0.002104455, 'queue_time': 0.066855336, 'total_time': 0.025740819}, 'model_name': 'Gemma2-9b-It', 'system_fingerprint': 'fp_10c08bf97d', 'finish_reason': 'stop', 'logprobs': None} id='run--0a8a9d65-e51f-470a-a116-3ce40489bfd0-0' usage_metadata={'input_tokens': 11, 'output_tokens': 13, 'total_tokens': 24}\n",
            "Assistant:  Hello! How can I help you today? 😊\n",
            "\n"
          ]
        },
        {
          "output_type": "stream",
          "name": "stderr",
          "text": [
            "WARNING:langsmith.client:Failed to send compressed multipart ingest: langsmith.utils.LangSmithAuthError: Authentication failed for https://api.smith.langchain.com/runs/multipart. HTTPError('401 Client Error: Unauthorized for url: https://api.smith.langchain.com/runs/multipart', '{\"error\":\"Unauthorized\"}\\n')trace=5a46fec1-07be-470b-804b-2104f1f121f5,id=5a46fec1-07be-470b-804b-2104f1f121f5; trace=5a46fec1-07be-470b-804b-2104f1f121f5,id=2df51494-1394-42bf-924e-3a30729e5251; trace=5a46fec1-07be-470b-804b-2104f1f121f5,id=0a8a9d65-e51f-470a-a116-3ce40489bfd0; trace=5a46fec1-07be-470b-804b-2104f1f121f5,id=0a8a9d65-e51f-470a-a116-3ce40489bfd0; trace=5a46fec1-07be-470b-804b-2104f1f121f5,id=2df51494-1394-42bf-924e-3a30729e5251; trace=5a46fec1-07be-470b-804b-2104f1f121f5,id=5a46fec1-07be-470b-804b-2104f1f121f5\n"
          ]
        },
        {
          "name": "stdout",
          "output_type": "stream",
          "text": [
            "User: what is agentic ai\n"
          ]
        },
        {
          "output_type": "stream",
          "name": "stderr",
          "text": [
            "WARNING:langsmith.client:Failed to send compressed multipart ingest: langsmith.utils.LangSmithAuthError: Authentication failed for https://api.smith.langchain.com/runs/multipart. HTTPError('401 Client Error: Unauthorized for url: https://api.smith.langchain.com/runs/multipart', '{\"error\":\"Unauthorized\"}\\n')trace=97a50f9d-9d0b-4a34-abcc-7e564cfee535,id=97a50f9d-9d0b-4a34-abcc-7e564cfee535; trace=97a50f9d-9d0b-4a34-abcc-7e564cfee535,id=646236c5-6b9c-46a6-9e3c-a9768fbc6f0b; trace=97a50f9d-9d0b-4a34-abcc-7e564cfee535,id=caa37784-f350-495b-a957-e4b5aa1502b2\n"
          ]
        },
        {
          "output_type": "stream",
          "name": "stdout",
          "text": [
            "dict_values([{'messages': AIMessage(content=\"Agentic AI refers to a type of artificial intelligence that possesses the ability to act autonomously and make decisions in a goal-oriented manner. \\n\\nHere's a breakdown of the key characteristics:\\n\\n**Key Characteristics:**\\n\\n* **Autonomy:** Agentic AI systems can operate independently without direct human intervention. They have the capacity to perceive their environment, make decisions, and take actions to achieve their objectives.\\n* **Goal-Oriented:** These AI agents are driven by goals and strive to achieve them. Their actions are designed to maximize the likelihood of reaching their desired outcomes.\\n* **Learning and Adaptation:** Many agentic AI systems incorporate learning mechanisms, enabling them to improve their performance over time based on experience and feedback.\\n\\n**Examples:**\\n\\n* **Robotics:** Autonomous robots that navigate complex environments, perform tasks, and interact with their surroundings.\\n* **Game AI:** Non-player characters (NPCs) in video games that exhibit intelligent behavior, make strategic decisions, and challenge human players.\\n* **Personal Assistants:** Virtual assistants like Siri or Alexa that can understand natural language, execute commands, and learn user preferences.\\n\\n**Benefits:**\\n\\n* **Increased Efficiency:** Agentic AI can automate tasks, freeing up human time and resources for more complex endeavors.\\n* **Improved Decision-Making:** In certain situations, AI agents can analyze vast amounts of data and make more informed decisions than humans.\\n* **Enhanced Safety:** In hazardous environments, agentic robots can perform dangerous tasks, reducing risks to human workers.\\n\\n**Challenges:**\\n\\n* **Safety and Ethics:** Ensuring that agentic AI systems operate safely and ethically is crucial, as their autonomous actions can have real-world consequences.\\n* **Explainability:** Understanding how AI agents make decisions can be challenging, which raises concerns about accountability and transparency.\\n* **Control and Oversight:** Maintaining control over agentic AI systems and preventing unintended behavior is an ongoing research area.\\n\\n\\nLet me know if you have any other questions!\\n\", additional_kwargs={}, response_metadata={'token_usage': {'completion_tokens': 406, 'prompt_tokens': 14, 'total_tokens': 420, 'completion_time': 0.738181818, 'prompt_time': 0.001907705, 'queue_time': 0.108491717, 'total_time': 0.740089523}, 'model_name': 'Gemma2-9b-It', 'system_fingerprint': 'fp_10c08bf97d', 'finish_reason': 'stop', 'logprobs': None}, id='run--caa37784-f350-495b-a957-e4b5aa1502b2-0', usage_metadata={'input_tokens': 14, 'output_tokens': 406, 'total_tokens': 420})}])\n",
            "content=\"Agentic AI refers to a type of artificial intelligence that possesses the ability to act autonomously and make decisions in a goal-oriented manner. \\n\\nHere's a breakdown of the key characteristics:\\n\\n**Key Characteristics:**\\n\\n* **Autonomy:** Agentic AI systems can operate independently without direct human intervention. They have the capacity to perceive their environment, make decisions, and take actions to achieve their objectives.\\n* **Goal-Oriented:** These AI agents are driven by goals and strive to achieve them. Their actions are designed to maximize the likelihood of reaching their desired outcomes.\\n* **Learning and Adaptation:** Many agentic AI systems incorporate learning mechanisms, enabling them to improve their performance over time based on experience and feedback.\\n\\n**Examples:**\\n\\n* **Robotics:** Autonomous robots that navigate complex environments, perform tasks, and interact with their surroundings.\\n* **Game AI:** Non-player characters (NPCs) in video games that exhibit intelligent behavior, make strategic decisions, and challenge human players.\\n* **Personal Assistants:** Virtual assistants like Siri or Alexa that can understand natural language, execute commands, and learn user preferences.\\n\\n**Benefits:**\\n\\n* **Increased Efficiency:** Agentic AI can automate tasks, freeing up human time and resources for more complex endeavors.\\n* **Improved Decision-Making:** In certain situations, AI agents can analyze vast amounts of data and make more informed decisions than humans.\\n* **Enhanced Safety:** In hazardous environments, agentic robots can perform dangerous tasks, reducing risks to human workers.\\n\\n**Challenges:**\\n\\n* **Safety and Ethics:** Ensuring that agentic AI systems operate safely and ethically is crucial, as their autonomous actions can have real-world consequences.\\n* **Explainability:** Understanding how AI agents make decisions can be challenging, which raises concerns about accountability and transparency.\\n* **Control and Oversight:** Maintaining control over agentic AI systems and preventing unintended behavior is an ongoing research area.\\n\\n\\nLet me know if you have any other questions!\\n\" additional_kwargs={} response_metadata={'token_usage': {'completion_tokens': 406, 'prompt_tokens': 14, 'total_tokens': 420, 'completion_time': 0.738181818, 'prompt_time': 0.001907705, 'queue_time': 0.108491717, 'total_time': 0.740089523}, 'model_name': 'Gemma2-9b-It', 'system_fingerprint': 'fp_10c08bf97d', 'finish_reason': 'stop', 'logprobs': None} id='run--caa37784-f350-495b-a957-e4b5aa1502b2-0' usage_metadata={'input_tokens': 14, 'output_tokens': 406, 'total_tokens': 420}\n",
            "Assistant:  Agentic AI refers to a type of artificial intelligence that possesses the ability to act autonomously and make decisions in a goal-oriented manner. \n",
            "\n",
            "Here's a breakdown of the key characteristics:\n",
            "\n",
            "**Key Characteristics:**\n",
            "\n",
            "* **Autonomy:** Agentic AI systems can operate independently without direct human intervention. They have the capacity to perceive their environment, make decisions, and take actions to achieve their objectives.\n",
            "* **Goal-Oriented:** These AI agents are driven by goals and strive to achieve them. Their actions are designed to maximize the likelihood of reaching their desired outcomes.\n",
            "* **Learning and Adaptation:** Many agentic AI systems incorporate learning mechanisms, enabling them to improve their performance over time based on experience and feedback.\n",
            "\n",
            "**Examples:**\n",
            "\n",
            "* **Robotics:** Autonomous robots that navigate complex environments, perform tasks, and interact with their surroundings.\n",
            "* **Game AI:** Non-player characters (NPCs) in video games that exhibit intelligent behavior, make strategic decisions, and challenge human players.\n",
            "* **Personal Assistants:** Virtual assistants like Siri or Alexa that can understand natural language, execute commands, and learn user preferences.\n",
            "\n",
            "**Benefits:**\n",
            "\n",
            "* **Increased Efficiency:** Agentic AI can automate tasks, freeing up human time and resources for more complex endeavors.\n",
            "* **Improved Decision-Making:** In certain situations, AI agents can analyze vast amounts of data and make more informed decisions than humans.\n",
            "* **Enhanced Safety:** In hazardous environments, agentic robots can perform dangerous tasks, reducing risks to human workers.\n",
            "\n",
            "**Challenges:**\n",
            "\n",
            "* **Safety and Ethics:** Ensuring that agentic AI systems operate safely and ethically is crucial, as their autonomous actions can have real-world consequences.\n",
            "* **Explainability:** Understanding how AI agents make decisions can be challenging, which raises concerns about accountability and transparency.\n",
            "* **Control and Oversight:** Maintaining control over agentic AI systems and preventing unintended behavior is an ongoing research area.\n",
            "\n",
            "\n",
            "Let me know if you have any other questions!\n",
            "\n"
          ]
        },
        {
          "output_type": "stream",
          "name": "stderr",
          "text": [
            "WARNING:langsmith.client:Failed to send compressed multipart ingest: langsmith.utils.LangSmithAuthError: Authentication failed for https://api.smith.langchain.com/runs/multipart. HTTPError('401 Client Error: Unauthorized for url: https://api.smith.langchain.com/runs/multipart', '{\"error\":\"Unauthorized\"}\\n')trace=97a50f9d-9d0b-4a34-abcc-7e564cfee535,id=caa37784-f350-495b-a957-e4b5aa1502b2; trace=97a50f9d-9d0b-4a34-abcc-7e564cfee535,id=646236c5-6b9c-46a6-9e3c-a9768fbc6f0b; trace=97a50f9d-9d0b-4a34-abcc-7e564cfee535,id=97a50f9d-9d0b-4a34-abcc-7e564cfee535\n"
          ]
        },
        {
          "name": "stdout",
          "output_type": "stream",
          "text": [
            "User: what is langchain?\n"
          ]
        },
        {
          "output_type": "stream",
          "name": "stderr",
          "text": [
            "WARNING:langsmith.client:Failed to send compressed multipart ingest: langsmith.utils.LangSmithAuthError: Authentication failed for https://api.smith.langchain.com/runs/multipart. HTTPError('401 Client Error: Unauthorized for url: https://api.smith.langchain.com/runs/multipart', '{\"error\":\"Unauthorized\"}\\n')trace=6c39ae81-b1fc-4876-9013-6f5dd5585e99,id=6c39ae81-b1fc-4876-9013-6f5dd5585e99; trace=6c39ae81-b1fc-4876-9013-6f5dd5585e99,id=8e66d066-7a50-4920-aa10-d7562b71944c; trace=6c39ae81-b1fc-4876-9013-6f5dd5585e99,id=789b7410-488b-410a-95f4-8d42bfd089b1\n"
          ]
        },
        {
          "output_type": "stream",
          "name": "stdout",
          "text": [
            "dict_values([{'messages': AIMessage(content=\"LangChain is an open-source framework designed to simplify the development of applications powered by large language models (LLMs). \\n\\nThink of it as a toolbox filled with components specifically designed to work seamlessly with LLMs like me. \\n\\n**Here's a breakdown of what LangChain offers:**\\n\\n* **Modular Components:** \\n    *  **Models:** It provides easy integration with various LLMs, not just OpenAI's models. You can connect with models from HuggingFace, Cohere, and more.\\n    *  **Prompts:**  Helps you craft effective prompts for your LLMs, leading to better responses.\\n    *  **Memory:** Allows your applications to remember past interactions with users, creating a more conversational and personalized experience.\\n    *  **Chains:**  Lets you string together multiple components (models, prompts, memories) to build complex workflows.\\n\\n* **Abstraction:** \\n\\nLangChain hides the complexities of interacting with LLMs, letting you focus on building your application's logic rather than low-level technical details.\\n\\n* **Flexibility:**\\n\\nIt's designed to be highly adaptable, allowing you to build a wide range of applications, such as:\\n    * **Chatbots:** Create engaging and interactive conversational agents.\\n    * **Question Answering Systems:** Build systems that can answer questions based on a given context.\\n    * **Text Summarization:**  Generate concise summaries of lengthy documents.\\n    * **Code Generation:** Assist developers by generating code snippets.\\n\\n**In essence, LangChain empowers developers to:**\\n\\n* **Leverage the power of LLMs more easily.**\\n* **Build sophisticated AI applications faster.**\\n* **Focus on innovation and creativity rather than technical hurdles.**\\n\\nLet me know if you have any more questions about LangChain or how it can be used!\\n\", additional_kwargs={}, response_metadata={'token_usage': {'completion_tokens': 380, 'prompt_tokens': 14, 'total_tokens': 394, 'completion_time': 0.690909091, 'prompt_time': 0.001957435, 'queue_time': 0.09109399800000001, 'total_time': 0.692866526}, 'model_name': 'Gemma2-9b-It', 'system_fingerprint': 'fp_10c08bf97d', 'finish_reason': 'stop', 'logprobs': None}, id='run--789b7410-488b-410a-95f4-8d42bfd089b1-0', usage_metadata={'input_tokens': 14, 'output_tokens': 380, 'total_tokens': 394})}])\n",
            "content=\"LangChain is an open-source framework designed to simplify the development of applications powered by large language models (LLMs). \\n\\nThink of it as a toolbox filled with components specifically designed to work seamlessly with LLMs like me. \\n\\n**Here's a breakdown of what LangChain offers:**\\n\\n* **Modular Components:** \\n    *  **Models:** It provides easy integration with various LLMs, not just OpenAI's models. You can connect with models from HuggingFace, Cohere, and more.\\n    *  **Prompts:**  Helps you craft effective prompts for your LLMs, leading to better responses.\\n    *  **Memory:** Allows your applications to remember past interactions with users, creating a more conversational and personalized experience.\\n    *  **Chains:**  Lets you string together multiple components (models, prompts, memories) to build complex workflows.\\n\\n* **Abstraction:** \\n\\nLangChain hides the complexities of interacting with LLMs, letting you focus on building your application's logic rather than low-level technical details.\\n\\n* **Flexibility:**\\n\\nIt's designed to be highly adaptable, allowing you to build a wide range of applications, such as:\\n    * **Chatbots:** Create engaging and interactive conversational agents.\\n    * **Question Answering Systems:** Build systems that can answer questions based on a given context.\\n    * **Text Summarization:**  Generate concise summaries of lengthy documents.\\n    * **Code Generation:** Assist developers by generating code snippets.\\n\\n**In essence, LangChain empowers developers to:**\\n\\n* **Leverage the power of LLMs more easily.**\\n* **Build sophisticated AI applications faster.**\\n* **Focus on innovation and creativity rather than technical hurdles.**\\n\\nLet me know if you have any more questions about LangChain or how it can be used!\\n\" additional_kwargs={} response_metadata={'token_usage': {'completion_tokens': 380, 'prompt_tokens': 14, 'total_tokens': 394, 'completion_time': 0.690909091, 'prompt_time': 0.001957435, 'queue_time': 0.09109399800000001, 'total_time': 0.692866526}, 'model_name': 'Gemma2-9b-It', 'system_fingerprint': 'fp_10c08bf97d', 'finish_reason': 'stop', 'logprobs': None} id='run--789b7410-488b-410a-95f4-8d42bfd089b1-0' usage_metadata={'input_tokens': 14, 'output_tokens': 380, 'total_tokens': 394}\n",
            "Assistant:  LangChain is an open-source framework designed to simplify the development of applications powered by large language models (LLMs). \n",
            "\n",
            "Think of it as a toolbox filled with components specifically designed to work seamlessly with LLMs like me. \n",
            "\n",
            "**Here's a breakdown of what LangChain offers:**\n",
            "\n",
            "* **Modular Components:** \n",
            "    *  **Models:** It provides easy integration with various LLMs, not just OpenAI's models. You can connect with models from HuggingFace, Cohere, and more.\n",
            "    *  **Prompts:**  Helps you craft effective prompts for your LLMs, leading to better responses.\n",
            "    *  **Memory:** Allows your applications to remember past interactions with users, creating a more conversational and personalized experience.\n",
            "    *  **Chains:**  Lets you string together multiple components (models, prompts, memories) to build complex workflows.\n",
            "\n",
            "* **Abstraction:** \n",
            "\n",
            "LangChain hides the complexities of interacting with LLMs, letting you focus on building your application's logic rather than low-level technical details.\n",
            "\n",
            "* **Flexibility:**\n",
            "\n",
            "It's designed to be highly adaptable, allowing you to build a wide range of applications, such as:\n",
            "    * **Chatbots:** Create engaging and interactive conversational agents.\n",
            "    * **Question Answering Systems:** Build systems that can answer questions based on a given context.\n",
            "    * **Text Summarization:**  Generate concise summaries of lengthy documents.\n",
            "    * **Code Generation:** Assist developers by generating code snippets.\n",
            "\n",
            "**In essence, LangChain empowers developers to:**\n",
            "\n",
            "* **Leverage the power of LLMs more easily.**\n",
            "* **Build sophisticated AI applications faster.**\n",
            "* **Focus on innovation and creativity rather than technical hurdles.**\n",
            "\n",
            "Let me know if you have any more questions about LangChain or how it can be used!\n",
            "\n"
          ]
        },
        {
          "output_type": "stream",
          "name": "stderr",
          "text": [
            "WARNING:langsmith.client:Failed to send compressed multipart ingest: langsmith.utils.LangSmithAuthError: Authentication failed for https://api.smith.langchain.com/runs/multipart. HTTPError('401 Client Error: Unauthorized for url: https://api.smith.langchain.com/runs/multipart', '{\"error\":\"Unauthorized\"}\\n')trace=6c39ae81-b1fc-4876-9013-6f5dd5585e99,id=789b7410-488b-410a-95f4-8d42bfd089b1; trace=6c39ae81-b1fc-4876-9013-6f5dd5585e99,id=8e66d066-7a50-4920-aa10-d7562b71944c; trace=6c39ae81-b1fc-4876-9013-6f5dd5585e99,id=6c39ae81-b1fc-4876-9013-6f5dd5585e99\n"
          ]
        },
        {
          "output_type": "stream",
          "name": "stdout",
          "text": [
            "User: q\n",
            "Good Bye\n"
          ]
        }
      ]
    },
    {
      "cell_type": "code",
      "source": [],
      "metadata": {
        "id": "8eu0Qe-okiRa"
      },
      "id": "8eu0Qe-okiRa",
      "execution_count": null,
      "outputs": []
    }
  ],
  "metadata": {
    "language_info": {
      "name": "python"
    },
    "colab": {
      "provenance": [],
      "gpuType": "V28",
      "include_colab_link": true
    },
    "accelerator": "TPU",
    "kernelspec": {
      "name": "python3",
      "display_name": "Python 3"
    }
  },
  "nbformat": 4,
  "nbformat_minor": 5
}